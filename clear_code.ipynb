{
 "cells": [
  {
   "cell_type": "code",
   "id": "initial_id",
   "metadata": {
    "collapsed": true,
    "ExecuteTime": {
     "end_time": "2025-04-06T13:28:52.596755Z",
     "start_time": "2025-04-06T13:28:51.287269Z"
    }
   },
   "source": [
    "# Все библиотеки\n",
    "\n",
    "import pandas as pd\n",
    "from scipy.stats import ttest_ind, levene, mannwhitneyu,shapiro, \\\n",
    "    f_oneway, kruskal, chi2_contingency, fisher_exact\n",
    "import numpy as np\n",
    "from statsmodels.stats.multicomp import pairwise_tukeyhsd\n",
    "import matplotlib.pyplot as plt\n",
    "import statsmodels.api as sm\n",
    "from statsmodels.stats.outliers_influence import variance_inflation_factor\n",
    "from statsmodels.stats.diagnostic import het_breuschpagan\n",
    "import seaborn as sns\n",
    "from sklearn.metrics import roc_auc_score, roc_curve\n",
    "import pingouin as pg\n",
    "import warnings\n",
    "\n",
    "warnings.filterwarnings('ignore')"
   ],
   "outputs": [],
   "execution_count": 1
  },
  {
   "metadata": {
    "ExecuteTime": {
     "end_time": "2025-04-06T13:28:53.674244Z",
     "start_time": "2025-04-06T13:28:52.603075Z"
    }
   },
   "cell_type": "code",
   "source": [
    "income = pd.read_csv('заработок бобров.csv', encoding='utf-8', sep=';')\n",
    "purs = pd.read_csv('покупки.csv', encoding='utf-8', sep=';')\n",
    "staff = pd.read_excel('сотрудники.xlsx')"
   ],
   "id": "921b6d6d040987d",
   "outputs": [],
   "execution_count": 2
  },
  {
   "metadata": {
    "ExecuteTime": {
     "end_time": "2025-04-06T13:28:53.874722Z",
     "start_time": "2025-04-06T13:28:53.870493Z"
    }
   },
   "cell_type": "code",
   "source": [
    "def obr(df):\n",
    "    df.columns = df.columns.str.replace(' ', '_').str.lower().str.replace('.', '')\n",
    "    return df"
   ],
   "id": "15a30f0797050d8d",
   "outputs": [],
   "execution_count": 3
  },
  {
   "metadata": {
    "ExecuteTime": {
     "end_time": "2025-04-06T13:28:53.901253Z",
     "start_time": "2025-04-06T13:28:53.894608Z"
    }
   },
   "cell_type": "code",
   "source": [
    "income = obr(income)\n",
    "purs = obr(purs)\n",
    "staff = obr(staff)"
   ],
   "id": "49dd8a42166cd508",
   "outputs": [],
   "execution_count": 4
  },
  {
   "metadata": {
    "ExecuteTime": {
     "end_time": "2025-04-06T13:28:54.041818Z",
     "start_time": "2025-04-06T13:28:53.924472Z"
    }
   },
   "cell_type": "code",
   "source": [
    "missions_to_drop = [\n",
    "    'тренер',\n",
    "    'Croc sport',\n",
    "    'Croc sport( 4 уровень)',\n",
    "    'миссия best hunter',\n",
    "    'миссия креативный класс',\n",
    "    'путешественник КРОК',\n",
    "    'развитие бренда работодателя',\n",
    "    'продвижение IT-профессий'\n",
    "]\n",
    "\n",
    "comments_to_drop = ['ошибочно начислены']\n",
    "\n",
    "income = income[~income['название_миссии'].str.lower().isin([m.lower() for m in missions_to_drop])]\n",
    "income = income[~income['комментарий'].str.lower().isin([m.lower() for m in comments_to_drop])]"
   ],
   "id": "57f5cefe193f4b2b",
   "outputs": [],
   "execution_count": 5
  },
  {
   "metadata": {
    "ExecuteTime": {
     "end_time": "2025-04-06T13:28:54.084292Z",
     "start_time": "2025-04-06T13:28:54.061866Z"
    }
   },
   "cell_type": "code",
   "source": [
    "income['дата'] = pd.to_datetime(income['дата'], format='%d.%m.%Y')\n",
    "today = pd.Timestamp.today().normalize()\n",
    "income['дней_назад'] = (today - income['дата']).dt.days"
   ],
   "id": "b379b3c68c4e2f59",
   "outputs": [],
   "execution_count": 6
  },
  {
   "metadata": {
    "ExecuteTime": {
     "end_time": "2025-04-06T13:28:54.247205Z",
     "start_time": "2025-04-06T13:28:54.107859Z"
    }
   },
   "cell_type": "code",
   "source": [
    "purs['дата_оформления_заказа'] = pd.to_datetime(purs['дата_оформления_заказа'], format='%d.%m.%Y %H:%M')\n",
    "today = pd.Timestamp.today().normalize()\n",
    "purs['дней_назад'] = (today - purs['дата_оформления_заказа'].dt.normalize()).dt.days"
   ],
   "id": "911ff323cfc1fc51",
   "outputs": [],
   "execution_count": 7
  },
  {
   "metadata": {
    "ExecuteTime": {
     "end_time": "2025-04-06T13:28:54.295135Z",
     "start_time": "2025-04-06T13:28:54.269281Z"
    }
   },
   "cell_type": "code",
   "source": [
    "import re\n",
    "\n",
    "\n",
    "def parse_stazh_to_days(text):\n",
    "    years = months = days = 0\n",
    "\n",
    "    year_match = re.search(r'(\\d+)\\s*г\\.', text)\n",
    "    if year_match:\n",
    "        years = int(year_match.group(1))\n",
    "\n",
    "    month_match = re.search(r'(\\d+)\\s*мес\\.', text)\n",
    "    if month_match:\n",
    "        months = int(month_match.group(1))\n",
    "\n",
    "    day_match = re.search(r'(\\d+)\\s*дн\\.', text)\n",
    "    if day_match:\n",
    "        days = int(day_match.group(1))\n",
    "\n",
    "    total_days = years * 360 + months * 30 + days\n",
    "    return total_days\n",
    "\n",
    "staff['стаж_в_днях'] = staff['стаж_фактический_по_компании'].apply(parse_stazh_to_days)"
   ],
   "id": "89f9fc2d36ef886d",
   "outputs": [],
   "execution_count": 8
  },
  {
   "metadata": {
    "ExecuteTime": {
     "end_time": "2025-04-06T13:28:55.078912Z",
     "start_time": "2025-04-06T13:28:55.029073Z"
    }
   },
   "cell_type": "code",
   "source": [
    "staff['код_сотрудника'] = staff['внешний_код']\n",
    "purs = purs.merge(\n",
    "    staff[['код_сотрудника', 'стаж_в_днях']],\n",
    "    on='код_сотрудника',\n",
    "    how='left'\n",
    ")\n",
    "purs['стаж_на_момент_покупки'] = purs['стаж_в_днях'] - purs['дней_назад']\n",
    "\n",
    "\n",
    "income = income.merge(\n",
    "    staff[['код_сотрудника', 'стаж_в_днях']],\n",
    "    on='код_сотрудника',\n",
    "    how='left'\n",
    ")\n",
    "income['стаж_на_момент_заработка'] = income['стаж_в_днях'] - income['дней_назад']"
   ],
   "id": "3d7e51fd606d2f36",
   "outputs": [],
   "execution_count": 9
  },
  {
   "metadata": {
    "ExecuteTime": {
     "end_time": "2025-04-06T13:28:56.180772Z",
     "start_time": "2025-04-06T13:28:56.165470Z"
    }
   },
   "cell_type": "code",
   "source": [
    "employees_with_missions = income['код_сотрудника'].unique()\n",
    "employees_with_purchases = purs['код_сотрудника'].unique()\n",
    "\n",
    "all_employees = set(employees_with_missions) | set(employees_with_purchases)\n",
    "percent_with_missions = len(employees_with_missions) / len(all_employees) * 100\n",
    "percent_with_purchases = len(employees_with_purchases) / len(all_employees) * 100\n",
    "\n",
    "print(f\"Процент людей с хотя бы одной миссией: {percent_with_missions:.2f}%\")\n",
    "print(f\"Процент людей с хотя бы одной покупкой: {percent_with_purchases:.2f}%\")"
   ],
   "id": "12d0090e49f56ad",
   "outputs": [
    {
     "name": "stdout",
     "output_type": "stream",
     "text": [
      "Процент людей с хотя бы одной миссией: 73.90%\n",
      "Процент людей с хотя бы одной покупкой: 92.61%\n"
     ]
    }
   ],
   "execution_count": 10
  },
  {
   "metadata": {
    "ExecuteTime": {
     "end_time": "2025-04-06T13:29:00.327642Z",
     "start_time": "2025-04-06T13:29:00.317492Z"
    }
   },
   "cell_type": "code",
   "source": [
    "purs['сумма'] = purs['стоимость_в_валюте'] * purs['количество'] * (1 - purs['скидка']/100)\n",
    "total_spent = purs['сумма'].sum()\n",
    "unique_buyers = purs['код_сотрудника'].nunique()\n",
    "avg_spent_per_person = total_spent / unique_buyers\n",
    "\n",
    "print(f\"Средняя сумма, потраченная одним сотрудником: {avg_spent_per_person:.2f}\")"
   ],
   "id": "89b713bda8d07b8",
   "outputs": [
    {
     "name": "stdout",
     "output_type": "stream",
     "text": [
      "Средняя сумма, потраченная одним сотрудником: 8116.20\n"
     ]
    }
   ],
   "execution_count": 11
  },
  {
   "metadata": {
    "ExecuteTime": {
     "end_time": "2025-04-06T13:29:05.852212Z",
     "start_time": "2025-04-06T13:29:05.847200Z"
    }
   },
   "cell_type": "code",
   "source": [
    "good = [\n",
    "'Ты вовремя списал затраченное время на задачи и проекты',\n",
    "'Ты вовремя подписал документы по кадровым движениям',\n",
    "'Креативный класс',\n",
    "'Ты проверил информацию при обновлении проектного опыта (для юристов, за 1 проект)',\n",
    "'Ты прошел все онлайн-курсы для новых сотрудников',\n",
    "'Ты проверил информацию при сборе проектного опыта (для маркетологов, специалистов службы качества, за 1 проект)',\n",
    "'Ты заполнил проектный опыт (для менеджеров проекта, за 1 проект)',\n",
    "'Ты повторно проверил информацию при обновлении проектного опыта (для юристов, за 1 проект)',\n",
    "'Ты повторно проверил информацию при обновлении проектного опыта (для маркетологов, специалистов службы качества, за 1 проект)',\n",
    "'Миссия Креативный класс',\n",
    "'Ты обновил полностью проектный опыт (для в менеджера проекта, за 1 проект)',\n",
    "'Ты успешно сдал экзамен*',\n",
    "'Ты прошел программу адаптации для аналитиков',\n",
    "'Ты сдал экзамен* на 100%'\n",
    "]"
   ],
   "id": "8a364bab1e06da34",
   "outputs": [],
   "execution_count": 12
  },
  {
   "metadata": {
    "ExecuteTime": {
     "end_time": "2025-04-06T13:29:12.460519Z",
     "start_time": "2025-04-06T13:29:06.734202Z"
    }
   },
   "cell_type": "code",
   "source": [
    "from scipy.stats import wilcoxon\n",
    "\n",
    "\n",
    "def good_count(missions):\n",
    "    return sum(mission in good for mission in missions)\n",
    "\n",
    "\n",
    "def effectivnost(missions):\n",
    "    total = len(missions)\n",
    "    if total == 0:\n",
    "        return 0.0\n",
    "    return good_count(missions) / total\n",
    "\n",
    "\n",
    "def sravnenie(df, missions):\n",
    "    df['дата'] = pd.to_datetime(df['дата'])\n",
    "\n",
    "    results = []\n",
    "    for employee_id, group in df[['код_сотрудника', 'дата', 'название_миссии']].groupby('код_сотрудника'):\n",
    "        group = group.sort_values('дата')\n",
    "        top = group[group['название_миссии'].str.contains('|'.join(missions), na=False)]\n",
    "        if len(top) == 0:\n",
    "            continue\n",
    "\n",
    "        if not top.empty:\n",
    "            top_data = top['дата'].iloc[0]\n",
    "        else:\n",
    "            top_data = pd.Timestamp.max\n",
    "\n",
    "        missions_before = group[group['дата'] < top_data]['название_миссии']\n",
    "        missions_after = group[group['дата'] >= top_data]['название_миссии']\n",
    "\n",
    "        start_date = pd.to_datetime(\"2023-09-02\")\n",
    "        before_diff = (top_data - start_date).days\n",
    "\n",
    "        end_date = pd.to_datetime(\"2024-10-15\")\n",
    "        after_diff = (end_date - top_data).days\n",
    "\n",
    "        k_before = len(missions_before)/before_diff\n",
    "        k_after = len(missions_after)/after_diff\n",
    "\n",
    "        good_k_before = good_count(missions_before)/before_diff\n",
    "        good_k_after = good_count(missions_after)/after_diff\n",
    "\n",
    "        eff_before = effectivnost(missions_before)\n",
    "        eff_after = effectivnost(missions_after)\n",
    "\n",
    "        results.append({\n",
    "            'код_сотрудника': employee_id,\n",
    "            'эффективность_до': eff_before,\n",
    "            'эффективность_после': eff_after,\n",
    "            'k_before': k_before,\n",
    "            'k_after': k_after,\n",
    "            'good_k_before': good_k_before,\n",
    "            'good_k_after': good_k_after,\n",
    "            'missions_before': missions_before.shape[0],\n",
    "            'missions_after': missions_after.shape[0]\n",
    "        })\n",
    "\n",
    "    eff_df = pd.DataFrame(results)\n",
    "\n",
    "    valid_eff = eff_df.dropna(subset=['эффективность_до', 'эффективность_после'])\n",
    "\n",
    "    stat, p_value = wilcoxon(valid_eff['эффективность_до'], valid_eff['эффективность_после'])\n",
    "    stat2, p_value2 = wilcoxon(valid_eff['k_before'], valid_eff['k_after'])\n",
    "    stat3, p_value3 = wilcoxon(valid_eff['good_k_before'], valid_eff['good_k_after'])\n",
    "\n",
    "    print(f\"{missions} :\\nПРОЦЕНТЫ\\nWilcoxon test: статистика = {stat}, p-value = {p_value:.5f}\")\n",
    "\n",
    "    if p_value < 0.05:\n",
    "        print(\"📈 Есть статистически значимая разница между эффективностью ДО и ПОСЛЕ ключевых значений (p < 0.05)\")\n",
    "    else:\n",
    "        print(\"📉 Статистически значимой разницы не найдено (p ≥ 0.05)\")\n",
    "\n",
    "\n",
    "    print()\n",
    "    print(f\"до : {eff_df['эффективность_до'].median()}\")\n",
    "    print(f\"после : {eff_df['эффективность_после'].median()}\")\n",
    "    print()\n",
    "\n",
    "    print(f\"КОЛ-ВО ЗАДАЧ В ДЕНЬ\\nWilcoxon test: статистика = {stat2}, p-value = {p_value2:.5f}\")\n",
    "\n",
    "    if p_value2 < 0.05:\n",
    "        print(\"📈 Есть статистически значимая разница между эффективностью ДО и ПОСЛЕ ключевых значений (p < 0.05)\")\n",
    "    else:\n",
    "        print(\"📉 Статистически значимой разницы не найдено (p ≥ 0.05)\")\n",
    "\n",
    "    print()\n",
    "    print(f\"до : {eff_df['k_before'].median()}\")\n",
    "    print(f\"после : {eff_df['k_after'].median()}\")\n",
    "    print()\n",
    "\n",
    "    print(f\"КОЛ-ВО КРУТЫХ ЗАДАЧ В ДЕНЬ\\nWilcoxon test: статистика = {stat3}, p-value = {p_value3:.5f}\")\n",
    "\n",
    "    if p_value3 < 0.05:\n",
    "        print(\"Есть статистически значимая разница между эффективностью ДО и ПОСЛЕ ключевых значений (p < 0.05)\")\n",
    "    else:\n",
    "        print(\"Статистически значимой разницы не найдено (p ≥ 0.05)\")\n",
    "\n",
    "    print()\n",
    "    print(f\"до : {eff_df['good_k_before'].median()}\")\n",
    "    print(f\"после : {eff_df['good_k_after'].median()}\")\n",
    "\n",
    "    print()\n",
    "    print(f\"медианное кол-во миссий до: {eff_df['missions_before'].median()}\")\n",
    "    print(f\"медианное кол-во миссий после: {eff_df['missions_after'].median()}\")\n",
    "\n",
    "\n",
    "TheBest = ['HiPro', 'HiPo', 'Креативный класс', 'Звезда департамента']\n",
    "sravnenie(income, TheBest)"
   ],
   "id": "7c0b6fc2d6ecfd1d",
   "outputs": [
    {
     "name": "stdout",
     "output_type": "stream",
     "text": [
      "['HiPro', 'HiPo', 'Креативный класс', 'Звезда департамента'] :\n",
      "ПРОЦЕНТЫ\n",
      "Wilcoxon test: статистика = 247780.5, p-value = 0.00048\n",
      "📈 Есть статистически значимая разница между эффективностью ДО и ПОСЛЕ ключевых значений (p < 0.05)\n",
      "\n",
      "до : 0.2\n",
      "после : 0.3333333333333333\n",
      "\n",
      "КОЛ-ВО ЗАДАЧ В ДЕНЬ\n",
      "Wilcoxon test: статистика = 26403.0, p-value = 0.00000\n",
      "📈 Есть статистически значимая разница между эффективностью ДО и ПОСЛЕ ключевых значений (p < 0.05)\n",
      "\n",
      "до : 0.024096385542168676\n",
      "после : 0.07920792079207921\n",
      "\n",
      "КОЛ-ВО КРУТЫХ ЗАДАЧ В ДЕНЬ\n",
      "Wilcoxon test: статистика = 47683.0, p-value = 0.00000\n",
      "Есть статистически значимая разница между эффективностью ДО и ПОСЛЕ ключевых значений (p < 0.05)\n",
      "\n",
      "до : 0.005780346820809248\n",
      "после : 0.021739130434782608\n",
      "\n",
      "медианное кол-во миссий до: 5.0\n",
      "медианное кол-во миссий после: 11.0\n"
     ]
    }
   ],
   "execution_count": 13
  },
  {
   "metadata": {
    "ExecuteTime": {
     "end_time": "2025-04-06T13:31:29.057413Z",
     "start_time": "2025-04-06T13:29:12.467011Z"
    }
   },
   "cell_type": "code",
   "source": [
    "from scipy.stats import wilcoxon\n",
    "\n",
    "def sravnenie_do_i_posle(income, purs, the_best):\n",
    "    income['дата'] = pd.to_datetime(income['дата'])\n",
    "    purs['дата_оформления_заказа'] = pd.to_datetime(purs['дата_оформления_заказа'])\n",
    "\n",
    "    result = []\n",
    "\n",
    "    for employee_id, group in income.groupby('код_сотрудника'):\n",
    "        group = group.sort_values('дата')\n",
    "        top_missions = group[group['название_миссии'].str.contains('|'.join(the_best), na=False)]\n",
    "        if top_missions.empty:\n",
    "            continue\n",
    "\n",
    "        top_date = top_missions['дата'].iloc[0]\n",
    "\n",
    "        before_missions = group[(group['дата'] < top_date) & ~group['название_миссии'].isin(the_best)]\n",
    "        after_missions = group[(group['дата'] >= top_date) & ~group['название_миссии'].isin(the_best)]\n",
    "\n",
    "        def count_purchases(mission_dates):\n",
    "            count = 0\n",
    "            total = len(mission_dates)\n",
    "            for date in mission_dates:\n",
    "                purchases = purs[\n",
    "                    (purs['код_сотрудника'] == employee_id) &\n",
    "                    (purs['дата_оформления_заказа'] > date) &\n",
    "                    (purs['дата_оформления_заказа'] <= date + pd.Timedelta(days=7))\n",
    "                ]\n",
    "                if not purchases.empty:\n",
    "                    count += 1\n",
    "            return count, total\n",
    "\n",
    "        before_count, before_total = count_purchases(before_missions['дата'])\n",
    "        after_count, after_total = count_purchases(after_missions['дата'])\n",
    "\n",
    "        if before_total > 0 and after_total > 0:\n",
    "            result.append({\n",
    "                'код_сотрудника': employee_id,\n",
    "                'доля_до': before_count / before_total,\n",
    "                'доля_после': after_count / after_total\n",
    "            })\n",
    "\n",
    "    result_df = pd.DataFrame(result)\n",
    "    stat, p_value = wilcoxon(result_df['доля_до'], result_df['доля_после'])\n",
    "\n",
    "    print(\"Wilcoxon test по долям миссий с покупками:\")\n",
    "    print(f\"статистика = {stat}, p-value = {p_value:.5f}\")\n",
    "    if p_value < 0.05:\n",
    "        print(\"Есть статистически значимая разница (p < 0.05)\")\n",
    "    else:\n",
    "        print(\"Нет статистически значимой разницы (p ≥ 0.05)\")\n",
    "\n",
    "    print()\n",
    "    print(f\"Медианная доля покупок ДО: {result_df['доля_до'].median():.3f}\")\n",
    "    print(f\"Медианная доля покупок ПОСЛЕ: {result_df['доля_после'].median():.3f}\")\n",
    "\n",
    "\n",
    "sravnenie_do_i_posle(income, purs, TheBest)"
   ],
   "id": "efe1d2c5c0085cda",
   "outputs": [
    {
     "name": "stdout",
     "output_type": "stream",
     "text": [
      "Wilcoxon test по долям миссий с покупками:\n",
      "статистика = 80056.5, p-value = 0.00000\n",
      "Есть статистически значимая разница (p < 0.05)\n",
      "\n",
      "Медианная доля покупок ДО: 0.000\n",
      "Медианная доля покупок ПОСЛЕ: 0.083\n"
     ]
    }
   ],
   "execution_count": 14
  },
  {
   "metadata": {
    "ExecuteTime": {
     "end_time": "2025-04-06T13:31:34.131188Z",
     "start_time": "2025-04-06T13:31:29.113564Z"
    }
   },
   "cell_type": "code",
   "source": [
    "for i in staff['является_рм/тл'].value_counts().head(3).reset_index()['является_рм/тл'].unique():\n",
    "    print(i)\n",
    "    sravnenie(income[income['код_сотрудника'].isin(staff[staff['является_рм/тл'] == i]['код_сотрудника'].tolist())], TheBest)"
   ],
   "id": "7fac44cde5c701e9",
   "outputs": [
    {
     "name": "stdout",
     "output_type": "stream",
     "text": [
      "нет\n",
      "['HiPro', 'HiPo', 'Креативный класс', 'Звезда департамента'] :\n",
      "ПРОЦЕНТЫ\n",
      "Wilcoxon test: статистика = 167023.0, p-value = 0.01303\n",
      "📈 Есть статистически значимая разница между эффективностью ДО и ПОСЛЕ ключевых значений (p < 0.05)\n",
      "\n",
      "до : 0.23904761904761904\n",
      "после : 0.3333333333333333\n",
      "\n",
      "КОЛ-ВО ЗАДАЧ В ДЕНЬ\n",
      "Wilcoxon test: статистика = 16941.5, p-value = 0.00000\n",
      "📈 Есть статистически значимая разница между эффективностью ДО и ПОСЛЕ ключевых значений (p < 0.05)\n",
      "\n",
      "до : 0.027399111217871724\n",
      "после : 0.0850531914893617\n",
      "\n",
      "КОЛ-ВО КРУТЫХ ЗАДАЧ В ДЕНЬ\n",
      "Wilcoxon test: статистика = 32014.0, p-value = 0.00000\n",
      "Есть статистически значимая разница между эффективностью ДО и ПОСЛЕ ключевых значений (p < 0.05)\n",
      "\n",
      "до : 0.005917159763313609\n",
      "после : 0.025532377227292482\n",
      "\n",
      "медианное кол-во миссий до: 6.0\n",
      "медианное кол-во миссий после: 11.0\n",
      "РМ\n",
      "['HiPro', 'HiPo', 'Креативный класс', 'Звезда департамента'] :\n",
      "ПРОЦЕНТЫ\n",
      "Wilcoxon test: статистика = 1695.0, p-value = 0.00963\n",
      "📈 Есть статистически значимая разница между эффективностью ДО и ПОСЛЕ ключевых значений (p < 0.05)\n",
      "\n",
      "до : 0.0\n",
      "после : 0.25\n",
      "\n",
      "КОЛ-ВО ЗАДАЧ В ДЕНЬ\n",
      "Wilcoxon test: статистика = 178.0, p-value = 0.00000\n",
      "📈 Есть статистически значимая разница между эффективностью ДО и ПОСЛЕ ключевых значений (p < 0.05)\n",
      "\n",
      "до : 0.0169971671388102\n",
      "после : 0.056074766355140186\n",
      "\n",
      "КОЛ-ВО КРУТЫХ ЗАДАЧ В ДЕНЬ\n",
      "Wilcoxon test: статистика = 333.5, p-value = 0.00000\n",
      "Есть статистически значимая разница между эффективностью ДО и ПОСЛЕ ключевых значений (p < 0.05)\n",
      "\n",
      "до : 0.0\n",
      "после : 0.009852216748768473\n",
      "\n",
      "медианное кол-во миссий до: 3.0\n",
      "медианное кол-во миссий после: 10.0\n",
      "ТЛ\n",
      "['HiPro', 'HiPo', 'Креативный класс', 'Звезда департамента'] :\n",
      "ПРОЦЕНТЫ\n",
      "Wilcoxon test: статистика = 749.0, p-value = 0.07620\n",
      "📉 Статистически значимой разницы не найдено (p ≥ 0.05)\n",
      "\n",
      "до : 0.25\n",
      "после : 0.3488372093023256\n",
      "\n",
      "КОЛ-ВО ЗАДАЧ В ДЕНЬ\n",
      "Wilcoxon test: статистика = 51.0, p-value = 0.00000\n",
      "📈 Есть статистически значимая разница между эффективностью ДО и ПОСЛЕ ключевых значений (p < 0.05)\n",
      "\n",
      "до : 0.018691588785046728\n",
      "после : 0.08438818565400844\n",
      "\n",
      "КОЛ-ВО КРУТЫХ ЗАДАЧ В ДЕНЬ\n",
      "Wilcoxon test: статистика = 52.0, p-value = 0.00000\n",
      "Есть статистически значимая разница между эффективностью ДО и ПОСЛЕ ключевых значений (p < 0.05)\n",
      "\n",
      "до : 0.005813953488372093\n",
      "после : 0.03271028037383177\n",
      "\n",
      "медианное кол-во миссий до: 4.0\n",
      "медианное кол-во миссий после: 16.0\n"
     ]
    }
   ],
   "execution_count": 15
  },
  {
   "metadata": {
    "ExecuteTime": {
     "end_time": "2025-04-06T14:25:03.623758Z",
     "start_time": "2025-04-06T14:25:00.779191Z"
    }
   },
   "cell_type": "code",
   "source": [
    "def avg_top_date(df, missions):\n",
    "    df['дата'] = pd.to_datetime(df['дата'])\n",
    "\n",
    "    top_dates = []\n",
    "    for employee_id, group in df[['код_сотрудника', 'дата', 'название_миссии']].groupby('код_сотрудника'):\n",
    "        group = group.sort_values('дата')\n",
    "        top = group[group['название_миссии'].str.contains('|'.join(missions), na=False)]\n",
    "        if not top.empty:\n",
    "            top_dates.append(top['дата'].iloc[0])\n",
    "\n",
    "    avg_date = pd.to_datetime(top_dates).mean()\n",
    "    print(f\"📅 Средняя дата получения первой миссии из TheBest: {avg_date.date()}\")\n",
    "    return avg_date\n",
    "\n",
    "\n",
    "avg_top_date(income, TheBest)\n"
   ],
   "id": "739a1a9788a6a2e5",
   "outputs": [
    {
     "name": "stdout",
     "output_type": "stream",
     "text": [
      "📅 Средняя дата получения первой миссии из TheBest: 2024-04-24\n"
     ]
    },
    {
     "data": {
      "text/plain": [
       "Timestamp('2024-04-24 13:42:41.702127616')"
      ]
     },
     "execution_count": 24,
     "metadata": {},
     "output_type": "execute_result"
    }
   ],
   "execution_count": 24
  },
  {
   "metadata": {
    "ExecuteTime": {
     "end_time": "2025-04-06T14:20:04.444782Z",
     "start_time": "2025-04-06T14:19:59.703294Z"
    }
   },
   "cell_type": "code",
   "outputs": [
    {
     "name": "stdout",
     "output_type": "stream",
     "text": [
      "🔎 Проверка общей временной тенденции (до / после медианной даты):\n",
      "Wilcoxon test: статистика = 1540260.0, p-value = 0.00000\n",
      "📈 Есть статистически значимая разница между ДО и ПОСЛЕ по времени\n",
      "\n",
      "до : 0.010101010101010102\n",
      "после : 0.012461180124223602\n"
     ]
    }
   ],
   "execution_count": 23,
   "source": [
    "from scipy.stats import wilcoxon\n",
    "\n",
    "def temporal_sravnenie(df):\n",
    "    df['дата'] = pd.to_datetime(df['дата'])\n",
    "    median_date = pd.to_datetime('2024-04-24')\n",
    "\n",
    "    results = []\n",
    "    for employee_id, group in df[['код_сотрудника', 'дата', 'название_миссии']].groupby('код_сотрудника'):\n",
    "        group = group.sort_values('дата')\n",
    "\n",
    "        before = group[group['дата'] < median_date]\n",
    "        after = group[group['дата'] >= median_date]\n",
    "\n",
    "        before_days = (median_date - before['дата'].min()).days if not before.empty else 1\n",
    "        after_days = (after['дата'].max() - median_date).days if not after.empty else 1\n",
    "\n",
    "        good_k_before = good_count(before['название_миссии']) / before_days if before_days > 0 else 0\n",
    "        good_k_after = good_count(after['название_миссии']) / after_days if after_days > 0 else 0\n",
    "\n",
    "        results.append({\n",
    "            'код_сотрудника': employee_id,\n",
    "            'good_k_before': good_k_before,\n",
    "            'good_k_after': good_k_after\n",
    "        })\n",
    "\n",
    "    temp_df = pd.DataFrame(results).dropna()\n",
    "\n",
    "    stat, p_value = wilcoxon(temp_df['good_k_before'], temp_df['good_k_after'])\n",
    "\n",
    "    print(\"🔎 Проверка общей временной тенденции (до / после медианной даты):\")\n",
    "    print(f\"Wilcoxon test: статистика = {stat}, p-value = {p_value:.5f}\")\n",
    "    if p_value < 0.05:\n",
    "        print(\"Есть статистически значимая разница между ДО и ПОСЛЕ по времени\")\n",
    "    else:\n",
    "        print(\"Разницы по времени не обнаружено\")\n",
    "\n",
    "    print()\n",
    "    print(f\"до : {temp_df['good_k_before'].median()}\")\n",
    "    print(f\"после : {temp_df['good_k_after'].median()}\")\n",
    "\n",
    "temporal_sravnenie(income)\n"
   ],
   "id": "42b8e7c84f7c00b1"
  },
  {
   "metadata": {},
   "cell_type": "code",
   "outputs": [],
   "execution_count": null,
   "source": "",
   "id": "4a430b6e2d6f0755"
  }
 ],
 "metadata": {
  "kernelspec": {
   "display_name": "Python 3",
   "language": "python",
   "name": "python3"
  },
  "language_info": {
   "codemirror_mode": {
    "name": "ipython",
    "version": 2
   },
   "file_extension": ".py",
   "mimetype": "text/x-python",
   "name": "python",
   "nbconvert_exporter": "python",
   "pygments_lexer": "ipython2",
   "version": "2.7.6"
  }
 },
 "nbformat": 4,
 "nbformat_minor": 5
}
